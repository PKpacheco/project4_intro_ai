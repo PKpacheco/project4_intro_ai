{
  "nbformat": 4,
  "nbformat_minor": 0,
  "metadata": {
    "colab": {
      "provenance": [],
      "toc_visible": true,
      "authorship_tag": "ABX9TyMXPLv0nR1kapyMXoXD9FDp",
      "include_colab_link": true
    },
    "kernelspec": {
      "name": "python3",
      "display_name": "Python 3"
    },
    "language_info": {
      "name": "python"
    }
  },
  "cells": [
    {
      "cell_type": "markdown",
      "metadata": {
        "id": "view-in-github",
        "colab_type": "text"
      },
      "source": [
        "<a href=\"https://colab.research.google.com/github/PKpacheco/project4_intro_ai/blob/main/(spam)Project_4_Intro_AI_Paola_Pacheco.ipynb\" target=\"_parent\"><img src=\"https://colab.research.google.com/assets/colab-badge.svg\" alt=\"Open In Colab\"/></a>"
      ]
    },
    {
      "cell_type": "code",
      "source": [],
      "metadata": {
        "id": "GqGQbDu3ovbR"
      },
      "execution_count": null,
      "outputs": []
    },
    {
      "cell_type": "markdown",
      "source": [
        "\n",
        "# Project 4 Spam Classifier (Part 2)\n",
        "Intro to AI\n",
        "\\\n",
        "Instructor: Jeffrey Lanyon\n",
        "\\\n",
        "Student: Paola Katherine Pacheco\n"
      ],
      "metadata": {
        "id": "-XlSd9Cd1vkD"
      }
    },
    {
      "cell_type": "markdown",
      "source": [
        "# Import"
      ],
      "metadata": {
        "id": "J_VsOxuiD1gY"
      }
    },
    {
      "cell_type": "code",
      "source": [
        "# import libraries\n",
        "\n",
        "import pandas as pd\n",
        "import numpy as np\n",
        "\n",
        "from keras.layers import Dense, Dropout\n",
        "from keras.models import Sequential\n",
        "from keras.preprocessing.text import Tokenizer\n",
        "\n",
        "from sklearn.model_selection import StratifiedKFold\n",
        "from sklearn.feature_extraction.text import TfidfVectorizer\n",
        "from sklearn.preprocessing import MaxAbsScaler\n",
        "from keras.utils import to_categorical\n"
      ],
      "metadata": {
        "id": "2ip1sSO2GrwC"
      },
      "execution_count": 1,
      "outputs": []
    },
    {
      "cell_type": "markdown",
      "source": [
        "# 1 Data Loading and Preparation\n",
        "###Load and concatenate data from multiple CSV files using Pandas.\n",
        "\n",
        "Load comments from five CSV files named Youtube01-Psy.csv, Youtube02-\n",
        "KatyPerry.csv, Youtube03-LMFAO.csv, Youtube04-Eminem.csv, and Youtube05-\n",
        "Shakira.csv.\n"
      ],
      "metadata": {
        "id": "sGWNwQCK2KKf"
      }
    },
    {
      "cell_type": "code",
      "source": [
        "# get files url\n",
        "url_psy = 'https://raw.githubusercontent.com/PKpacheco/intro_ai_project_3/main/Youtube01-Psy.csv'\n",
        "url_kateperry = 'https://raw.githubusercontent.com/PKpacheco/intro_ai_project_3/main/Youtube02-KatyPerry.csv'\n",
        "url_lmfao = 'https://raw.githubusercontent.com/PKpacheco/intro_ai_project_3/main/Youtube03-LMFAO.csv'\n",
        "url_eminem = 'https://raw.githubusercontent.com/PKpacheco/intro_ai_project_3/main/Youtube04-Eminem.csv'\n",
        "url_shakira = 'https://raw.githubusercontent.com/PKpacheco/intro_ai_project_3/main/Youtube05-Shakira.csv'"
      ],
      "metadata": {
        "id": "yBYKAO9NClia"
      },
      "execution_count": 2,
      "outputs": []
    },
    {
      "cell_type": "code",
      "source": [
        "# read files\n",
        "df_kate = pd.read_csv(url_kateperry)\n",
        "df_lmfao = pd.read_csv(url_lmfao)\n",
        "df_eminem = pd.read_csv(url_eminem)\n",
        "df_sharika = pd.read_csv(url_shakira)\n",
        "df_psy = pd.read_csv (url_psy)"
      ],
      "metadata": {
        "id": "miQ20oOoCrYI"
      },
      "execution_count": 3,
      "outputs": []
    },
    {
      "cell_type": "code",
      "source": [
        "# all df\n",
        "all_dataframes = [\n",
        "    df_psy,\n",
        "    df_kate,\n",
        "    df_lmfao,\n",
        "    df_eminem,\n",
        "    df_sharika\n",
        "    ]\n",
        "\n",
        "# concatenate into 1 df\n",
        "concat_df = pd.concat(all_dataframes, ignore_index=True)"
      ],
      "metadata": {
        "id": "CGQcyEi9Cvas"
      },
      "execution_count": 4,
      "outputs": []
    },
    {
      "cell_type": "code",
      "source": [
        "# shuffle\n",
        "shuffled_df = concat_df.sample(frac=1, random_state=42).reset_index(drop=True)\n",
        "print(shuffled_df.head())"
      ],
      "metadata": {
        "id": "zyZfovjwGmd0",
        "colab": {
          "base_uri": "https://localhost:8080/"
        },
        "outputId": "8462a35b-de8a-4472-c5a6-1ed907e2bf79"
      },
      "execution_count": 5,
      "outputs": [
        {
          "output_type": "stream",
          "name": "stdout",
          "text": [
            "                                    COMMENT_ID  \\\n",
            "0          z120djlhizeksdulo23mj5z52vjmxlhrk04   \n",
            "1            z133ibkihkmaj3bfq22rilaxmp2yt54nb   \n",
            "2        z12gxdortqzwhhqas04cfjrwituzghb5tvk0k   \n",
            "3  _2viQ_Qnc6_ZYkMn1fS805Z6oy8ImeO6pSjMLAlwYfM   \n",
            "4        z120s1agtmmetler404cifqbxzvdx15idtw0k   \n",
            "\n",
            "                            AUTHOR                        DATE  \\\n",
            "0             Murlock Nightcrawler  2015-05-24T07:04:29.844000   \n",
            "1  Debora Favacho (Debora Sparkle)  2015-05-21T14:08:41.338000   \n",
            "2             Muhammad Asim Mansha                         NaN   \n",
            "3                      mile panika  2013-11-03T14:39:42.248000   \n",
            "4                   Sheila Cenabre         2014-08-19T12:33:11   \n",
            "\n",
            "                                             CONTENT  CLASS  \n",
            "0                                Charlie from LOST?﻿      0  \n",
            "1                        BEST SONG EVER X3333333333﻿      0  \n",
            "2                     Aslamu Lykum... From Pakistan﻿      1  \n",
            "3  I absolutely adore watching football plus I’ve...      1  \n",
            "4  I really love this video.. http://www.bubblews...      1  \n"
          ]
        }
      ]
    },
    {
      "cell_type": "code",
      "source": [
        "shuffled_df.info()"
      ],
      "metadata": {
        "colab": {
          "base_uri": "https://localhost:8080/"
        },
        "id": "9jGzt8l9EA6T",
        "outputId": "3569f7de-00e1-4ae6-a747-86b6694c6f70"
      },
      "execution_count": 6,
      "outputs": [
        {
          "output_type": "stream",
          "name": "stdout",
          "text": [
            "<class 'pandas.core.frame.DataFrame'>\n",
            "RangeIndex: 1956 entries, 0 to 1955\n",
            "Data columns (total 5 columns):\n",
            " #   Column      Non-Null Count  Dtype \n",
            "---  ------      --------------  ----- \n",
            " 0   COMMENT_ID  1956 non-null   object\n",
            " 1   AUTHOR      1956 non-null   object\n",
            " 2   DATE        1711 non-null   object\n",
            " 3   CONTENT     1956 non-null   object\n",
            " 4   CLASS       1956 non-null   int64 \n",
            "dtypes: int64(1), object(4)\n",
            "memory usage: 76.5+ KB\n"
          ]
        }
      ]
    },
    {
      "cell_type": "code",
      "source": [
        "shuffled_df"
      ],
      "metadata": {
        "colab": {
          "base_uri": "https://localhost:8080/",
          "height": 597
        },
        "id": "gEUjSRY4YqNQ",
        "outputId": "0ec1dc86-a5e0-4178-e206-2e9e0c5d06ea"
      },
      "execution_count": 7,
      "outputs": [
        {
          "output_type": "execute_result",
          "data": {
            "text/plain": [
              "                                       COMMENT_ID  \\\n",
              "0             z120djlhizeksdulo23mj5z52vjmxlhrk04   \n",
              "1               z133ibkihkmaj3bfq22rilaxmp2yt54nb   \n",
              "2           z12gxdortqzwhhqas04cfjrwituzghb5tvk0k   \n",
              "3     _2viQ_Qnc6_ZYkMn1fS805Z6oy8ImeO6pSjMLAlwYfM   \n",
              "4           z120s1agtmmetler404cifqbxzvdx15idtw0k   \n",
              "...                                           ...   \n",
              "1951          z121szzyozr4vpqqc04cdn5g4zjhutdosdw   \n",
              "1952  LneaDw26bFvtmJorLbUQjuqmpL7TdjOKPGJT_DGUUJ4   \n",
              "1953        z13cfr5o3mnyez4ju04ce3whmvflg1fifl00k   \n",
              "1954            z12rhdkrvvy3hd42c23whdeavkjdxnimg   \n",
              "1955            z12uzjtpanvdhjmtr23asxgyiyjezjxe5   \n",
              "\n",
              "                               AUTHOR                        DATE  \\\n",
              "0                Murlock Nightcrawler  2015-05-24T07:04:29.844000   \n",
              "1     Debora Favacho (Debora Sparkle)  2015-05-21T14:08:41.338000   \n",
              "2                Muhammad Asim Mansha                         NaN   \n",
              "3                         mile panika  2013-11-03T14:39:42.248000   \n",
              "4                      Sheila Cenabre         2014-08-19T12:33:11   \n",
              "...                               ...                         ...   \n",
              "1951                     ItsJoey Dash  2014-07-22T10:04:05.755000   \n",
              "1952                  louis canellony                         NaN   \n",
              "1953               vieshva .d.exodous  2015-05-18T08:38:34.236000   \n",
              "1954                    viviane trinh  2015-05-21T22:35:35.753000   \n",
              "1955                    Juan Martinez  2014-07-22T13:22:54.111000   \n",
              "\n",
              "                                                CONTENT  CLASS  \n",
              "0                                   Charlie from LOST?﻿      0  \n",
              "1                           BEST SONG EVER X3333333333﻿      0  \n",
              "2                        Aslamu Lykum... From Pakistan﻿      1  \n",
              "3     I absolutely adore watching football plus I’ve...      1  \n",
              "4     I really love this video.. http://www.bubblews...      1  \n",
              "...                                                 ...    ...  \n",
              "1951  EVERYONE PLEASE SUBSCRIBE TO MY CHANNEL OR CAN...      1  \n",
              "1952  watch youtube video &quot;EMINEM -YTMA artist ...      1  \n",
              "1953                                           Awesome﻿      0  \n",
              "1954          i like the lyrics but not to music video﻿      0  \n",
              "1955             I learned the shuffle because of them﻿      0  \n",
              "\n",
              "[1956 rows x 5 columns]"
            ],
            "text/html": [
              "\n",
              "  <div id=\"df-76c9a380-dac0-4fc5-9657-9ca13ccf4bb1\" class=\"colab-df-container\">\n",
              "    <div>\n",
              "<style scoped>\n",
              "    .dataframe tbody tr th:only-of-type {\n",
              "        vertical-align: middle;\n",
              "    }\n",
              "\n",
              "    .dataframe tbody tr th {\n",
              "        vertical-align: top;\n",
              "    }\n",
              "\n",
              "    .dataframe thead th {\n",
              "        text-align: right;\n",
              "    }\n",
              "</style>\n",
              "<table border=\"1\" class=\"dataframe\">\n",
              "  <thead>\n",
              "    <tr style=\"text-align: right;\">\n",
              "      <th></th>\n",
              "      <th>COMMENT_ID</th>\n",
              "      <th>AUTHOR</th>\n",
              "      <th>DATE</th>\n",
              "      <th>CONTENT</th>\n",
              "      <th>CLASS</th>\n",
              "    </tr>\n",
              "  </thead>\n",
              "  <tbody>\n",
              "    <tr>\n",
              "      <th>0</th>\n",
              "      <td>z120djlhizeksdulo23mj5z52vjmxlhrk04</td>\n",
              "      <td>Murlock Nightcrawler</td>\n",
              "      <td>2015-05-24T07:04:29.844000</td>\n",
              "      <td>Charlie from LOST?﻿</td>\n",
              "      <td>0</td>\n",
              "    </tr>\n",
              "    <tr>\n",
              "      <th>1</th>\n",
              "      <td>z133ibkihkmaj3bfq22rilaxmp2yt54nb</td>\n",
              "      <td>Debora Favacho (Debora Sparkle)</td>\n",
              "      <td>2015-05-21T14:08:41.338000</td>\n",
              "      <td>BEST SONG EVER X3333333333﻿</td>\n",
              "      <td>0</td>\n",
              "    </tr>\n",
              "    <tr>\n",
              "      <th>2</th>\n",
              "      <td>z12gxdortqzwhhqas04cfjrwituzghb5tvk0k</td>\n",
              "      <td>Muhammad Asim Mansha</td>\n",
              "      <td>NaN</td>\n",
              "      <td>Aslamu Lykum... From Pakistan﻿</td>\n",
              "      <td>1</td>\n",
              "    </tr>\n",
              "    <tr>\n",
              "      <th>3</th>\n",
              "      <td>_2viQ_Qnc6_ZYkMn1fS805Z6oy8ImeO6pSjMLAlwYfM</td>\n",
              "      <td>mile panika</td>\n",
              "      <td>2013-11-03T14:39:42.248000</td>\n",
              "      <td>I absolutely adore watching football plus I’ve...</td>\n",
              "      <td>1</td>\n",
              "    </tr>\n",
              "    <tr>\n",
              "      <th>4</th>\n",
              "      <td>z120s1agtmmetler404cifqbxzvdx15idtw0k</td>\n",
              "      <td>Sheila Cenabre</td>\n",
              "      <td>2014-08-19T12:33:11</td>\n",
              "      <td>I really love this video.. http://www.bubblews...</td>\n",
              "      <td>1</td>\n",
              "    </tr>\n",
              "    <tr>\n",
              "      <th>...</th>\n",
              "      <td>...</td>\n",
              "      <td>...</td>\n",
              "      <td>...</td>\n",
              "      <td>...</td>\n",
              "      <td>...</td>\n",
              "    </tr>\n",
              "    <tr>\n",
              "      <th>1951</th>\n",
              "      <td>z121szzyozr4vpqqc04cdn5g4zjhutdosdw</td>\n",
              "      <td>ItsJoey Dash</td>\n",
              "      <td>2014-07-22T10:04:05.755000</td>\n",
              "      <td>EVERYONE PLEASE SUBSCRIBE TO MY CHANNEL OR CAN...</td>\n",
              "      <td>1</td>\n",
              "    </tr>\n",
              "    <tr>\n",
              "      <th>1952</th>\n",
              "      <td>LneaDw26bFvtmJorLbUQjuqmpL7TdjOKPGJT_DGUUJ4</td>\n",
              "      <td>louis canellony</td>\n",
              "      <td>NaN</td>\n",
              "      <td>watch youtube video &amp;quot;EMINEM -YTMA artist ...</td>\n",
              "      <td>1</td>\n",
              "    </tr>\n",
              "    <tr>\n",
              "      <th>1953</th>\n",
              "      <td>z13cfr5o3mnyez4ju04ce3whmvflg1fifl00k</td>\n",
              "      <td>vieshva .d.exodous</td>\n",
              "      <td>2015-05-18T08:38:34.236000</td>\n",
              "      <td>Awesome﻿</td>\n",
              "      <td>0</td>\n",
              "    </tr>\n",
              "    <tr>\n",
              "      <th>1954</th>\n",
              "      <td>z12rhdkrvvy3hd42c23whdeavkjdxnimg</td>\n",
              "      <td>viviane trinh</td>\n",
              "      <td>2015-05-21T22:35:35.753000</td>\n",
              "      <td>i like the lyrics but not to music video﻿</td>\n",
              "      <td>0</td>\n",
              "    </tr>\n",
              "    <tr>\n",
              "      <th>1955</th>\n",
              "      <td>z12uzjtpanvdhjmtr23asxgyiyjezjxe5</td>\n",
              "      <td>Juan Martinez</td>\n",
              "      <td>2014-07-22T13:22:54.111000</td>\n",
              "      <td>I learned the shuffle because of them﻿</td>\n",
              "      <td>0</td>\n",
              "    </tr>\n",
              "  </tbody>\n",
              "</table>\n",
              "<p>1956 rows × 5 columns</p>\n",
              "</div>\n",
              "    <div class=\"colab-df-buttons\">\n",
              "\n",
              "  <div class=\"colab-df-container\">\n",
              "    <button class=\"colab-df-convert\" onclick=\"convertToInteractive('df-76c9a380-dac0-4fc5-9657-9ca13ccf4bb1')\"\n",
              "            title=\"Convert this dataframe to an interactive table.\"\n",
              "            style=\"display:none;\">\n",
              "\n",
              "  <svg xmlns=\"http://www.w3.org/2000/svg\" height=\"24px\" viewBox=\"0 -960 960 960\">\n",
              "    <path d=\"M120-120v-720h720v720H120Zm60-500h600v-160H180v160Zm220 220h160v-160H400v160Zm0 220h160v-160H400v160ZM180-400h160v-160H180v160Zm440 0h160v-160H620v160ZM180-180h160v-160H180v160Zm440 0h160v-160H620v160Z\"/>\n",
              "  </svg>\n",
              "    </button>\n",
              "\n",
              "  <style>\n",
              "    .colab-df-container {\n",
              "      display:flex;\n",
              "      gap: 12px;\n",
              "    }\n",
              "\n",
              "    .colab-df-convert {\n",
              "      background-color: #E8F0FE;\n",
              "      border: none;\n",
              "      border-radius: 50%;\n",
              "      cursor: pointer;\n",
              "      display: none;\n",
              "      fill: #1967D2;\n",
              "      height: 32px;\n",
              "      padding: 0 0 0 0;\n",
              "      width: 32px;\n",
              "    }\n",
              "\n",
              "    .colab-df-convert:hover {\n",
              "      background-color: #E2EBFA;\n",
              "      box-shadow: 0px 1px 2px rgba(60, 64, 67, 0.3), 0px 1px 3px 1px rgba(60, 64, 67, 0.15);\n",
              "      fill: #174EA6;\n",
              "    }\n",
              "\n",
              "    .colab-df-buttons div {\n",
              "      margin-bottom: 4px;\n",
              "    }\n",
              "\n",
              "    [theme=dark] .colab-df-convert {\n",
              "      background-color: #3B4455;\n",
              "      fill: #D2E3FC;\n",
              "    }\n",
              "\n",
              "    [theme=dark] .colab-df-convert:hover {\n",
              "      background-color: #434B5C;\n",
              "      box-shadow: 0px 1px 3px 1px rgba(0, 0, 0, 0.15);\n",
              "      filter: drop-shadow(0px 1px 2px rgba(0, 0, 0, 0.3));\n",
              "      fill: #FFFFFF;\n",
              "    }\n",
              "  </style>\n",
              "\n",
              "    <script>\n",
              "      const buttonEl =\n",
              "        document.querySelector('#df-76c9a380-dac0-4fc5-9657-9ca13ccf4bb1 button.colab-df-convert');\n",
              "      buttonEl.style.display =\n",
              "        google.colab.kernel.accessAllowed ? 'block' : 'none';\n",
              "\n",
              "      async function convertToInteractive(key) {\n",
              "        const element = document.querySelector('#df-76c9a380-dac0-4fc5-9657-9ca13ccf4bb1');\n",
              "        const dataTable =\n",
              "          await google.colab.kernel.invokeFunction('convertToInteractive',\n",
              "                                                    [key], {});\n",
              "        if (!dataTable) return;\n",
              "\n",
              "        const docLinkHtml = 'Like what you see? Visit the ' +\n",
              "          '<a target=\"_blank\" href=https://colab.research.google.com/notebooks/data_table.ipynb>data table notebook</a>'\n",
              "          + ' to learn more about interactive tables.';\n",
              "        element.innerHTML = '';\n",
              "        dataTable['output_type'] = 'display_data';\n",
              "        await google.colab.output.renderOutput(dataTable, element);\n",
              "        const docLink = document.createElement('div');\n",
              "        docLink.innerHTML = docLinkHtml;\n",
              "        element.appendChild(docLink);\n",
              "      }\n",
              "    </script>\n",
              "  </div>\n",
              "\n",
              "\n",
              "<div id=\"df-fc464195-de5c-4152-99d4-2d002b6b2b43\">\n",
              "  <button class=\"colab-df-quickchart\" onclick=\"quickchart('df-fc464195-de5c-4152-99d4-2d002b6b2b43')\"\n",
              "            title=\"Suggest charts\"\n",
              "            style=\"display:none;\">\n",
              "\n",
              "<svg xmlns=\"http://www.w3.org/2000/svg\" height=\"24px\"viewBox=\"0 0 24 24\"\n",
              "     width=\"24px\">\n",
              "    <g>\n",
              "        <path d=\"M19 3H5c-1.1 0-2 .9-2 2v14c0 1.1.9 2 2 2h14c1.1 0 2-.9 2-2V5c0-1.1-.9-2-2-2zM9 17H7v-7h2v7zm4 0h-2V7h2v10zm4 0h-2v-4h2v4z\"/>\n",
              "    </g>\n",
              "</svg>\n",
              "  </button>\n",
              "\n",
              "<style>\n",
              "  .colab-df-quickchart {\n",
              "      --bg-color: #E8F0FE;\n",
              "      --fill-color: #1967D2;\n",
              "      --hover-bg-color: #E2EBFA;\n",
              "      --hover-fill-color: #174EA6;\n",
              "      --disabled-fill-color: #AAA;\n",
              "      --disabled-bg-color: #DDD;\n",
              "  }\n",
              "\n",
              "  [theme=dark] .colab-df-quickchart {\n",
              "      --bg-color: #3B4455;\n",
              "      --fill-color: #D2E3FC;\n",
              "      --hover-bg-color: #434B5C;\n",
              "      --hover-fill-color: #FFFFFF;\n",
              "      --disabled-bg-color: #3B4455;\n",
              "      --disabled-fill-color: #666;\n",
              "  }\n",
              "\n",
              "  .colab-df-quickchart {\n",
              "    background-color: var(--bg-color);\n",
              "    border: none;\n",
              "    border-radius: 50%;\n",
              "    cursor: pointer;\n",
              "    display: none;\n",
              "    fill: var(--fill-color);\n",
              "    height: 32px;\n",
              "    padding: 0;\n",
              "    width: 32px;\n",
              "  }\n",
              "\n",
              "  .colab-df-quickchart:hover {\n",
              "    background-color: var(--hover-bg-color);\n",
              "    box-shadow: 0 1px 2px rgba(60, 64, 67, 0.3), 0 1px 3px 1px rgba(60, 64, 67, 0.15);\n",
              "    fill: var(--button-hover-fill-color);\n",
              "  }\n",
              "\n",
              "  .colab-df-quickchart-complete:disabled,\n",
              "  .colab-df-quickchart-complete:disabled:hover {\n",
              "    background-color: var(--disabled-bg-color);\n",
              "    fill: var(--disabled-fill-color);\n",
              "    box-shadow: none;\n",
              "  }\n",
              "\n",
              "  .colab-df-spinner {\n",
              "    border: 2px solid var(--fill-color);\n",
              "    border-color: transparent;\n",
              "    border-bottom-color: var(--fill-color);\n",
              "    animation:\n",
              "      spin 1s steps(1) infinite;\n",
              "  }\n",
              "\n",
              "  @keyframes spin {\n",
              "    0% {\n",
              "      border-color: transparent;\n",
              "      border-bottom-color: var(--fill-color);\n",
              "      border-left-color: var(--fill-color);\n",
              "    }\n",
              "    20% {\n",
              "      border-color: transparent;\n",
              "      border-left-color: var(--fill-color);\n",
              "      border-top-color: var(--fill-color);\n",
              "    }\n",
              "    30% {\n",
              "      border-color: transparent;\n",
              "      border-left-color: var(--fill-color);\n",
              "      border-top-color: var(--fill-color);\n",
              "      border-right-color: var(--fill-color);\n",
              "    }\n",
              "    40% {\n",
              "      border-color: transparent;\n",
              "      border-right-color: var(--fill-color);\n",
              "      border-top-color: var(--fill-color);\n",
              "    }\n",
              "    60% {\n",
              "      border-color: transparent;\n",
              "      border-right-color: var(--fill-color);\n",
              "    }\n",
              "    80% {\n",
              "      border-color: transparent;\n",
              "      border-right-color: var(--fill-color);\n",
              "      border-bottom-color: var(--fill-color);\n",
              "    }\n",
              "    90% {\n",
              "      border-color: transparent;\n",
              "      border-bottom-color: var(--fill-color);\n",
              "    }\n",
              "  }\n",
              "</style>\n",
              "\n",
              "  <script>\n",
              "    async function quickchart(key) {\n",
              "      const quickchartButtonEl =\n",
              "        document.querySelector('#' + key + ' button');\n",
              "      quickchartButtonEl.disabled = true;  // To prevent multiple clicks.\n",
              "      quickchartButtonEl.classList.add('colab-df-spinner');\n",
              "      try {\n",
              "        const charts = await google.colab.kernel.invokeFunction(\n",
              "            'suggestCharts', [key], {});\n",
              "      } catch (error) {\n",
              "        console.error('Error during call to suggestCharts:', error);\n",
              "      }\n",
              "      quickchartButtonEl.classList.remove('colab-df-spinner');\n",
              "      quickchartButtonEl.classList.add('colab-df-quickchart-complete');\n",
              "    }\n",
              "    (() => {\n",
              "      let quickchartButtonEl =\n",
              "        document.querySelector('#df-fc464195-de5c-4152-99d4-2d002b6b2b43 button');\n",
              "      quickchartButtonEl.style.display =\n",
              "        google.colab.kernel.accessAllowed ? 'block' : 'none';\n",
              "    })();\n",
              "  </script>\n",
              "</div>\n",
              "    </div>\n",
              "  </div>\n"
            ]
          },
          "metadata": {},
          "execution_count": 7
        }
      ]
    },
    {
      "cell_type": "markdown",
      "source": [
        "#2 Setting Up cross-validation\n",
        "###Implement Stratified K-Fold Cross-Validation.\n",
        "\n",
        "* Use the StratifiedKFold class from sklearn.model_selection to create cross-\n",
        "validation splits. Set the number of splits to 5.\n",
        "*  Ensure that the splits are stratified based on the CLASS column in your DataFrame.\n",
        "* Output the pair train,test indices from your splits in the previous task. train\n",
        "contains the indices of the dataset that should be used for training in this particular split. test\n",
        "contains the indices of the dataset that should be used for testing in this particular split. The loop\n",
        "should print “split to indicate the start of a new split formation, then prints test indices. Sample\n",
        "output is given by"
      ],
      "metadata": {
        "id": "wwuwXuaRDQjf"
      }
    },
    {
      "cell_type": "code",
      "source": [
        "stratify_column = 'CLASS'\n",
        "\n",
        "X = shuffled_df.drop(columns=[stratify_column])\n",
        "y = shuffled_df[stratify_column]\n",
        "\n",
        "stratified_kfold = StratifiedKFold(n_splits=5, shuffle=True, random_state=42)\n"
      ],
      "metadata": {
        "id": "e2t-KPLMD-QB"
      },
      "execution_count": 8,
      "outputs": []
    },
    {
      "cell_type": "code",
      "source": [
        "X.shape"
      ],
      "metadata": {
        "colab": {
          "base_uri": "https://localhost:8080/"
        },
        "id": "_ALdcvBEreEp",
        "outputId": "321e267d-72c1-4dc3-ca8f-db26a5dd60cd"
      },
      "execution_count": 9,
      "outputs": [
        {
          "output_type": "execute_result",
          "data": {
            "text/plain": [
              "(1956, 4)"
            ]
          },
          "metadata": {},
          "execution_count": 9
        }
      ]
    },
    {
      "cell_type": "code",
      "source": [
        "y.shape"
      ],
      "metadata": {
        "colab": {
          "base_uri": "https://localhost:8080/"
        },
        "id": "YWgVQwwsrgTS",
        "outputId": "8577baa1-cefd-48df-f0f7-4641bfa0cc1f"
      },
      "execution_count": 10,
      "outputs": [
        {
          "output_type": "execute_result",
          "data": {
            "text/plain": [
              "(1956,)"
            ]
          },
          "metadata": {},
          "execution_count": 10
        }
      ]
    },
    {
      "cell_type": "code",
      "source": [
        "train_indices_list = []\n",
        "test_indices_list = []\n",
        "\n",
        "for split, (train_idx, test_idx) in enumerate(stratified_kfold.split(X, y), start=1):\n",
        "    print(f\"Split {split}\")\n",
        "    print(\"Train indices:\", train_idx)\n",
        "    print(\"Test indices:\", test_idx)\n",
        "    print(\"\\n\")\n",
        "    train_indices_list.append(train_idx)\n",
        "    test_indices_list.append(test_idx)\n"
      ],
      "metadata": {
        "colab": {
          "base_uri": "https://localhost:8080/"
        },
        "id": "2olG1tClEJAl",
        "outputId": "74139018-e1a0-4915-8a94-61cfe91940e0"
      },
      "execution_count": 11,
      "outputs": [
        {
          "output_type": "stream",
          "name": "stdout",
          "text": [
            "Split 1\n",
            "Train indices: [   0    1    2 ... 1952 1953 1954]\n",
            "Test indices: [  10   20   25   28   31   40   41   47   48   52   60   64   71   73\n",
            "   80   81   85   86   87   89   90   95   99  101  104  106  113  114\n",
            "  116  121  126  132  137  146  149  152  156  174  178  183  195  214\n",
            "  231  234  246  254  263  265  268  270  277  284  293  303  318  339\n",
            "  342  350  357  360  371  373  377  379  392  398  402  405  410  416\n",
            "  418  419  426  427  431  432  435  438  444  446  447  449  458  459\n",
            "  467  472  483  484  486  493  495  497  498  509  513  517  518  521\n",
            "  529  538  545  549  565  574  575  576  594  610  611  612  613  619\n",
            "  623  625  626  631  636  643  645  652  653  655  661  669  671  674\n",
            "  675  679  681  682  685  686  687  693  697  700  701  702  704  708\n",
            "  710  712  719  721  729  735  740  741  745  748  753  755  756  757\n",
            "  770  783  785  791  794  805  810  811  812  814  817  842  852  858\n",
            "  860  863  867  873  874  884  885  890  891  895  916  918  923  924\n",
            "  926  929  934  936  950  968  971  973  974  980  985  989  999 1003\n",
            " 1011 1014 1028 1036 1037 1042 1046 1050 1057 1058 1061 1069 1070 1071\n",
            " 1076 1079 1084 1093 1099 1106 1110 1113 1117 1122 1127 1130 1147 1148\n",
            " 1155 1160 1161 1167 1174 1175 1177 1178 1184 1187 1188 1191 1195 1201\n",
            " 1204 1213 1214 1215 1217 1219 1220 1229 1231 1233 1234 1242 1252 1256\n",
            " 1260 1261 1262 1264 1266 1270 1274 1275 1279 1280 1284 1295 1302 1304\n",
            " 1310 1312 1319 1321 1324 1334 1338 1341 1346 1348 1349 1351 1355 1356\n",
            " 1362 1369 1371 1372 1376 1381 1386 1408 1411 1412 1416 1417 1420 1428\n",
            " 1429 1430 1432 1438 1439 1446 1447 1456 1465 1467 1468 1479 1486 1504\n",
            " 1526 1527 1528 1532 1533 1536 1559 1582 1593 1596 1603 1609 1611 1613\n",
            " 1618 1619 1633 1643 1655 1662 1668 1675 1680 1687 1688 1689 1692 1693\n",
            " 1705 1709 1710 1711 1719 1720 1722 1725 1726 1728 1740 1744 1745 1746\n",
            " 1747 1749 1753 1754 1760 1761 1767 1768 1784 1797 1801 1811 1814 1817\n",
            " 1831 1834 1844 1852 1861 1862 1865 1871 1882 1891 1894 1901 1903 1906\n",
            " 1907 1909 1913 1927 1930 1931 1933 1939 1942 1944 1946 1948 1951 1955]\n",
            "\n",
            "\n",
            "Split 2\n",
            "Train indices: [   1    2    3 ... 1953 1954 1955]\n",
            "Test indices: [   0    4   26   29   42   45   69   76   78   82   97  100  110  112\n",
            "  115  117  118  120  123  127  136  141  144  151  157  166  167  169\n",
            "  184  185  190  193  198  203  207  210  211  213  215  223  224  229\n",
            "  243  248  249  250  253  256  269  271  275  278  281  282  286  289\n",
            "  297  298  299  301  307  316  317  321  325  331  334  340  341  343\n",
            "  344  345  347  348  354  356  358  362  363  364  365  366  367  372\n",
            "  374  380  382  385  390  395  403  404  421  423  433  436  437  440\n",
            "  442  445  451  453  456  457  460  462  464  469  478  490  494  500\n",
            "  504  510  522  523  525  526  527  531  534  536  540  541  542  543\n",
            "  544  546  547  556  557  563  564  579  580  581  586  590  591  597\n",
            "  598  604  605  607  616  618  632  633  641  646  650  659  660  664\n",
            "  666  670  673  677  680  683  690  698  711  714  716  717  718  725\n",
            "  727  737  751  767  768  774  776  790  792  793  795  800  801  803\n",
            "  804  807  809  816  824  832  836  837  848  864  865  869  872  880\n",
            "  881  889  894  902  909  911  915  917  925  928  939  946  963  966\n",
            "  976  984  987  990  994  995  996 1001 1004 1006 1007 1009 1021 1030\n",
            " 1032 1034 1038 1047 1056 1072 1083 1086 1094 1095 1107 1118 1119 1120\n",
            " 1121 1128 1129 1137 1142 1145 1150 1152 1157 1158 1166 1189 1198 1199\n",
            " 1202 1205 1206 1207 1212 1222 1223 1224 1227 1235 1236 1237 1257 1263\n",
            " 1276 1294 1296 1298 1301 1309 1311 1314 1320 1327 1329 1333 1357 1359\n",
            " 1367 1377 1384 1390 1392 1394 1397 1404 1405 1410 1414 1424 1442 1444\n",
            " 1452 1458 1461 1462 1463 1469 1472 1474 1480 1483 1485 1494 1495 1514\n",
            " 1523 1529 1537 1542 1545 1548 1549 1556 1561 1562 1563 1564 1565 1568\n",
            " 1569 1570 1572 1573 1580 1597 1602 1607 1617 1631 1634 1637 1649 1656\n",
            " 1661 1677 1679 1691 1697 1701 1702 1706 1737 1742 1752 1757 1762 1763\n",
            " 1771 1773 1774 1782 1783 1787 1791 1798 1808 1816 1818 1821 1826 1827\n",
            " 1828 1835 1837 1842 1845 1848 1851 1854 1856 1869 1873 1880 1898 1904\n",
            " 1910 1911 1914 1916 1922 1924 1932 1936 1937 1940 1947 1949 1952]\n",
            "\n",
            "\n",
            "Split 3\n",
            "Train indices: [   0    4    5 ... 1952 1953 1955]\n",
            "Test indices: [   1    2    3    6    7    9   11   12   16   17   22   23   34   39\n",
            "   43   44   46   50   51   53   54   55   56   57   61   63   65   66\n",
            "   79   84   91   92  103  105  107  111  122  125  130  133  134  140\n",
            "  142  158  163  170  172  173  179  181  196  202  204  209  212  217\n",
            "  221  222  225  226  227  228  232  252  261  262  266  273  279  283\n",
            "  285  287  290  296  309  310  314  319  322  324  326  327  328  349\n",
            "  352  353  361  375  391  409  413  415  417  424  425  434  450  452\n",
            "  463  465  476  487  501  506  511  515  519  533  552  554  555  559\n",
            "  560  562  569  570  571  577  578  584  585  587  588  596  603  617\n",
            "  620  622  624  628  630  634  635  637  642  644  654  665  676  684\n",
            "  688  691  692  696  699  705  709  715  722  726  728  730  732  733\n",
            "  736  744  746  747  752  754  759  761  763  765  771  779  796  798\n",
            "  802  806  813  826  827  828  833  838  841  844  845  847  855  862\n",
            "  876  877  878  879  883  887  888  893  896  897  900  903  908  919\n",
            "  921  927  930  932  935  937  941  942  943  951  952  953  959  962\n",
            "  964  975  983  988 1000 1005 1019 1023 1024 1026 1033 1035 1040 1043\n",
            " 1045 1049 1060 1064 1074 1075 1078 1085 1087 1088 1090 1096 1097 1102\n",
            " 1103 1109 1111 1124 1139 1143 1144 1151 1162 1163 1168 1176 1179 1193\n",
            " 1197 1208 1209 1210 1221 1228 1244 1248 1250 1251 1255 1272 1273 1278\n",
            " 1287 1291 1297 1307 1315 1322 1336 1337 1345 1353 1358 1361 1363 1364\n",
            " 1374 1388 1396 1403 1413 1415 1425 1427 1431 1443 1451 1454 1455 1464\n",
            " 1466 1470 1471 1475 1481 1488 1489 1497 1510 1511 1513 1517 1519 1520\n",
            " 1525 1550 1554 1571 1579 1581 1594 1612 1614 1636 1641 1642 1650 1651\n",
            " 1653 1654 1658 1666 1669 1671 1676 1678 1683 1684 1694 1695 1698 1699\n",
            " 1703 1707 1712 1716 1717 1723 1727 1730 1735 1739 1750 1751 1756 1776\n",
            " 1779 1785 1788 1790 1799 1800 1803 1807 1809 1810 1812 1815 1823 1824\n",
            " 1825 1829 1833 1836 1850 1859 1864 1870 1875 1879 1885 1889 1890 1895\n",
            " 1896 1897 1905 1908 1912 1917 1919 1920 1934 1935 1938 1950 1954]\n",
            "\n",
            "\n",
            "Split 4\n",
            "Train indices: [   0    1    2 ... 1953 1954 1955]\n",
            "Test indices: [   5    8   13   15   21   24   32   67   70   72   75   77   88   98\n",
            "  108  109  124  129  139  147  150  155  159  162  164  165  171  175\n",
            "  180  186  188  192  194  197  199  208  218  230  239  240  242  245\n",
            "  247  255  258  260  264  267  272  274  276  292  294  304  315  323\n",
            "  329  332  335  336  337  338  346  359  368  369  370  378  383  386\n",
            "  387  388  393  396  400  408  411  412  414  420  422  428  443  448\n",
            "  454  461  466  470  471  474  475  477  479  480  481  496  499  502\n",
            "  505  512  524  528  532  535  548  550  553  561  567  582  600  606\n",
            "  615  621  627  638  640  648  649  657  658  663  667  678  689  694\n",
            "  695  706  707  713  723  724  731  742  743  749  750  760  762  764\n",
            "  769  773  777  778  782  786  787  789  797  799  820  825  834  835\n",
            "  840  846  850  851  854  856  857  861  868  870  882  886  898  904\n",
            "  910  913  914  920  922  933  940  944  945  947  949  954  955  956\n",
            "  957  965  967  977  978  979  991  993  997 1002 1008 1010 1012 1017\n",
            " 1020 1025 1029 1031 1041 1044 1052 1053 1066 1073 1077 1080 1081 1089\n",
            " 1091 1092 1098 1101 1104 1112 1116 1123 1126 1131 1133 1141 1149 1154\n",
            " 1164 1165 1172 1182 1183 1185 1186 1192 1194 1196 1216 1218 1225 1230\n",
            " 1232 1240 1243 1246 1247 1249 1253 1258 1265 1267 1269 1281 1282 1288\n",
            " 1289 1290 1299 1300 1303 1316 1317 1323 1326 1330 1332 1342 1347 1350\n",
            " 1352 1360 1365 1366 1368 1373 1382 1389 1391 1393 1395 1398 1399 1401\n",
            " 1402 1406 1407 1409 1418 1419 1421 1422 1426 1433 1435 1436 1437 1440\n",
            " 1441 1449 1450 1453 1459 1477 1478 1487 1491 1492 1496 1499 1503 1508\n",
            " 1516 1522 1530 1531 1534 1539 1541 1547 1551 1553 1560 1566 1567 1578\n",
            " 1584 1589 1591 1595 1600 1601 1604 1605 1608 1615 1620 1624 1629 1632\n",
            " 1638 1639 1640 1648 1664 1667 1670 1672 1673 1681 1682 1685 1686 1704\n",
            " 1708 1713 1721 1724 1732 1733 1734 1736 1748 1764 1765 1769 1770 1772\n",
            " 1775 1777 1786 1789 1793 1832 1843 1846 1847 1849 1857 1860 1867 1874\n",
            " 1878 1881 1884 1886 1899 1902 1915 1921 1925 1928 1941 1943 1945]\n",
            "\n",
            "\n",
            "Split 5\n",
            "Train indices: [   0    1    2 ... 1952 1954 1955]\n",
            "Test indices: [  14   18   19   27   30   33   35   36   37   38   49   58   59   62\n",
            "   68   74   83   93   94   96  102  119  128  131  135  138  143  145\n",
            "  148  153  154  160  161  168  176  177  182  187  189  191  200  201\n",
            "  205  206  216  219  220  233  235  236  237  238  241  244  251  257\n",
            "  259  280  288  291  295  300  302  305  306  308  311  312  313  320\n",
            "  330  333  351  355  376  381  384  389  394  397  399  401  406  407\n",
            "  429  430  439  441  455  468  473  482  485  488  489  491  492  503\n",
            "  507  508  514  516  520  530  537  539  551  558  566  568  572  573\n",
            "  583  589  592  593  595  599  601  602  608  609  614  629  639  647\n",
            "  651  656  662  668  672  703  720  734  738  739  758  766  772  775\n",
            "  780  781  784  788  808  815  818  819  821  822  823  829  830  831\n",
            "  839  843  849  853  859  866  871  875  892  899  901  905  906  907\n",
            "  912  931  938  948  958  960  961  969  970  972  981  982  986  992\n",
            "  998 1013 1015 1016 1018 1022 1027 1039 1048 1051 1054 1055 1059 1062\n",
            " 1063 1065 1067 1068 1082 1100 1105 1108 1114 1115 1125 1132 1134 1135\n",
            " 1136 1138 1140 1146 1153 1156 1159 1169 1170 1171 1173 1180 1181 1190\n",
            " 1200 1203 1211 1226 1238 1239 1241 1245 1254 1259 1268 1271 1277 1283\n",
            " 1285 1286 1292 1293 1305 1306 1308 1313 1318 1325 1328 1331 1335 1339\n",
            " 1340 1343 1344 1354 1370 1375 1378 1379 1380 1383 1385 1387 1400 1423\n",
            " 1434 1445 1448 1457 1460 1473 1476 1482 1484 1490 1493 1498 1500 1501\n",
            " 1502 1505 1506 1507 1509 1512 1515 1518 1521 1524 1535 1538 1540 1543\n",
            " 1544 1546 1552 1555 1557 1558 1574 1575 1576 1577 1583 1585 1586 1587\n",
            " 1588 1590 1592 1598 1599 1606 1610 1616 1621 1622 1623 1625 1626 1627\n",
            " 1628 1630 1635 1644 1645 1646 1647 1652 1657 1659 1660 1663 1665 1674\n",
            " 1690 1696 1700 1714 1715 1718 1729 1731 1738 1741 1743 1755 1758 1759\n",
            " 1766 1778 1780 1781 1792 1794 1795 1796 1802 1804 1805 1806 1813 1819\n",
            " 1820 1822 1830 1838 1839 1840 1841 1853 1855 1858 1863 1866 1868 1872\n",
            " 1876 1877 1883 1887 1888 1892 1893 1900 1918 1923 1926 1929 1953]\n",
            "\n",
            "\n"
          ]
        }
      ]
    },
    {
      "cell_type": "code",
      "source": [
        "train_idx.shape\n"
      ],
      "metadata": {
        "colab": {
          "base_uri": "https://localhost:8080/"
        },
        "id": "ehRhR8UyrPgp",
        "outputId": "2c3ad4bc-ff0a-4749-fc6b-c4aeceb8f530"
      },
      "execution_count": 12,
      "outputs": [
        {
          "output_type": "execute_result",
          "data": {
            "text/plain": [
              "(1565,)"
            ]
          },
          "metadata": {},
          "execution_count": 12
        }
      ]
    },
    {
      "cell_type": "code",
      "source": [
        "test_idx.shape"
      ],
      "metadata": {
        "colab": {
          "base_uri": "https://localhost:8080/"
        },
        "id": "b9nm3TanrZuM",
        "outputId": "99171be7-66a0-4ab9-e1ba-5ee932999d87"
      },
      "execution_count": 13,
      "outputs": [
        {
          "output_type": "execute_result",
          "data": {
            "text/plain": [
              "(391,)"
            ]
          },
          "metadata": {},
          "execution_count": 13
        }
      ]
    },
    {
      "cell_type": "markdown",
      "source": [
        "#3 Tokenization and Text-to-Matrix Conversion\n",
        "###Convert text data into a numerical format suitable for a neural network.\n",
        "* Create a function prepare_data that takes indices for training and testing data.\n",
        "* Use the Tokenizer from keras.preprocessing.text to tokenize the text comments.\n",
        "* Limit the number of words to 2000.\n",
        "* Convert the text comments to a TF-IDF matrix format"
      ],
      "metadata": {
        "id": "vmAULOB6EiZ5"
      }
    },
    {
      "cell_type": "code",
      "source": [
        "def prepare_data(train_indices, test_indices, texts):\n",
        "\n",
        "    train_data = texts.iloc[train_indices]\n",
        "    test_data = texts.iloc[test_indices]\n",
        "\n",
        "    #init tokenizer with num_words=2000\n",
        "    tokenizer = Tokenizer(num_words=2000)\n",
        "\n",
        "    tokenizer.fit_on_texts(train_data['CONTENT'])\n",
        "\n",
        "    tfidf_vectorizer = TfidfVectorizer(max_features=2000)\n",
        "    X_train_tfidf = tfidf_vectorizer.fit_transform(train_data['CONTENT'])\n",
        "    X_test_tfidf = tfidf_vectorizer.transform(test_data['CONTENT'])\n",
        "\n",
        "    return X_train_tfidf, X_test_tfidf\n",
        "\n",
        "\n",
        "    # # X_train = tokenizer.texts_to_matrix(train_data['CONTENT'], mode='tfidf')\n",
        "    # # X_test = tokenizer.texts_to_matrix(test_data['CONTENT'], mode='tfidf')\n",
        "\n",
        "    # # return X_train, X_test\n",
        "\n",
        "    # return X_matrix\n",
        ""
      ],
      "metadata": {
        "id": "NYkdYgDEEwpl"
      },
      "execution_count": 14,
      "outputs": []
    },
    {
      "cell_type": "code",
      "source": [
        "# define indices and call function\n",
        "\n",
        "train_indices = train_indices_list[1]\n",
        "test_indices = test_indices_list[1]\n",
        "\n",
        "X_train_tfidf, X_test_tfidf = prepare_data(train_indices, test_indices, shuffled_df)\n"
      ],
      "metadata": {
        "id": "mHDOv9cffkaC"
      },
      "execution_count": 15,
      "outputs": []
    },
    {
      "cell_type": "code",
      "source": [
        "X_train_tfidf.shape\n"
      ],
      "metadata": {
        "colab": {
          "base_uri": "https://localhost:8080/"
        },
        "id": "PVOQSsKQo-Hi",
        "outputId": "3517a989-3085-4ee6-f582-0eac31e5dfd1"
      },
      "execution_count": 16,
      "outputs": [
        {
          "output_type": "execute_result",
          "data": {
            "text/plain": [
              "(1565, 2000)"
            ]
          },
          "metadata": {},
          "execution_count": 16
        }
      ]
    },
    {
      "cell_type": "code",
      "source": [
        "X_test_tfidf.shape"
      ],
      "metadata": {
        "colab": {
          "base_uri": "https://localhost:8080/"
        },
        "id": "TScK41c2pBnh",
        "outputId": "2d840fcc-e656-465b-c042-bda343828d4d"
      },
      "execution_count": 17,
      "outputs": [
        {
          "output_type": "execute_result",
          "data": {
            "text/plain": [
              "(391, 2000)"
            ]
          },
          "metadata": {},
          "execution_count": 17
        }
      ]
    },
    {
      "cell_type": "markdown",
      "source": [
        "#4 Data Preprocessing\n",
        "### Task: Normalize the TF-IDF matrix.\n",
        "* Divide the matrix by its maximum absolute value.\n",
        "* Subtract the mean from the matrix"
      ],
      "metadata": {
        "id": "nud2UDSwK8yt"
      }
    },
    {
      "cell_type": "code",
      "source": [
        "# Normalize using max abs value\n",
        "max_abs_scaler = MaxAbsScaler()\n",
        "\n",
        "X_train_normalized = max_abs_scaler.fit_transform(X_train_tfidf)\n",
        "X_test_normalized = max_abs_scaler.transform(X_test_tfidf)\n",
        "\n",
        "# matrix - mean\n",
        "mean_value = X_train_normalized.mean(axis=0)\n",
        "X_train_normalized -= mean_value\n",
        "X_test_normalized -= mean_value\n",
        "\n",
        "print(\"Shape of X_train_normalized:\", X_train_normalized.shape)\n",
        "print(\"Shape of X_test_normalized:\", X_test_normalized.shape)\n"
      ],
      "metadata": {
        "id": "_adBfUp1LXya",
        "colab": {
          "base_uri": "https://localhost:8080/"
        },
        "outputId": "c132f3dd-4846-45d1-d99b-7b8ed66b124e"
      },
      "execution_count": 18,
      "outputs": [
        {
          "output_type": "stream",
          "name": "stdout",
          "text": [
            "Shape of X_train_normalized: (1565, 2000)\n",
            "Shape of X_test_normalized: (391, 2000)\n"
          ]
        }
      ]
    },
    {
      "cell_type": "markdown",
      "source": [
        "# 5 Building the Neural Network Model\n",
        "### Task: Define and compile a neural network model.\n",
        "* Use the Sequential model from Keras.\n",
        "* Add a Dense layer with 512 units and 'relu' activation, followed by a Dropout layer with\n",
        "0.5 dropout rate.\n",
        "* Add another Dense layer for classification and use 'softmax' activation.\n",
        "* Compile the model with 'categorical_crossentropy' loss and 'adamax' optimizer"
      ],
      "metadata": {
        "id": "pQ15ZUKaLBsG"
      }
    },
    {
      "cell_type": "code",
      "source": [
        "input_shape = X_train_normalized.shape[1]\n",
        "input_shape"
      ],
      "metadata": {
        "colab": {
          "base_uri": "https://localhost:8080/"
        },
        "id": "AQqeODOdZ1DD",
        "outputId": "743bd8c7-234a-49bb-8095-10bebd3b1f95"
      },
      "execution_count": 19,
      "outputs": [
        {
          "output_type": "execute_result",
          "data": {
            "text/plain": [
              "2000"
            ]
          },
          "metadata": {},
          "execution_count": 19
        }
      ]
    },
    {
      "cell_type": "code",
      "source": [
        "# function to create the model\n",
        "def create_model(input_shape, num_classes):\n",
        "    # sequential model\n",
        "    model = Sequential()\n",
        "\n",
        "    # Dense layer with 512 units and 'relu' activation\n",
        "    model.add(Dense(512, activation='relu', input_shape=(input_shape,)))\n",
        "\n",
        "    # dropout layer with 0.5 dropout rate\n",
        "    model.add(Dropout(0.5))\n",
        "\n",
        "    # another dense layer 'softmax' activation\n",
        "    model.add(Dense(num_classes, activation='softmax'))\n",
        "\n",
        "    # complile the model\n",
        "    model.compile(loss='categorical_crossentropy', optimizer='adamax', metrics=['accuracy'])\n",
        "\n",
        "    # model summary\n",
        "    model.summary()\n",
        "\n",
        "    return model"
      ],
      "metadata": {
        "id": "Dkq5lyWohLyZ"
      },
      "execution_count": 20,
      "outputs": []
    },
    {
      "cell_type": "markdown",
      "source": [
        "# 6 Model Training and Evaluation\n",
        "### Task: Train and evaluate the model.\n",
        "* Write a function train_and_test that takes training and testing indices.\n",
        "* Train the model on the training data and evaluate it on the test data.\n",
        "* Use the accuracy metric to evaluate the model's performance"
      ],
      "metadata": {
        "id": "9XPjssjuLKCN"
      }
    },
    {
      "cell_type": "code",
      "source": [
        "accuracy_scores = []\n",
        "\n",
        "def train_and_test(train_indices, test_indices, X_train, y_train, X_test, y_test, epochs=10, batch_size=32):\n",
        "    input_shape = X_train.shape[1]\n",
        "    num_classes = 2\n",
        "\n",
        "    # Create the model\n",
        "    model = create_model(input_shape, num_classes)\n",
        "\n",
        "    # Convert labels to categorical format\n",
        "    y_train_categorical = to_categorical(y_train, num_classes=num_classes)\n",
        "    y_test_categorical = to_categorical(y_test, num_classes=num_classes)\n",
        "\n",
        "    # training model\n",
        "    history = model.fit(X_train, y_train_categorical, epochs=epochs, batch_size=batch_size, verbose=1, validation_split=0.1)\n",
        "\n",
        "    # evaluate with test data\n",
        "    results_model = model.evaluate(X_test, y_test_categorical, verbose=0)\n",
        "\n",
        "    # loss and accuracy for each epoch\n",
        "    for epoch, acc in enumerate(history.history['accuracy']):\n",
        "        print(f'Epoch {epoch + 1} - Loss: {history.history[\"loss\"][epoch]}, Accuracy: {acc}')\n",
        "    # Print accuracy\n",
        "    print(f'\\nTest Accuracy: {results_model[1]*100:.2f}%')\n",
        "    return results_model[1]"
      ],
      "metadata": {
        "id": "QNX3FwarhPSs"
      },
      "execution_count": 21,
      "outputs": []
    },
    {
      "cell_type": "code",
      "source": [
        "# Based on StratifiedKFold get split number 1\n",
        "split_number = 1\n",
        "train_indices = train_indices_list[split_number]\n",
        "test_indices = test_indices_list[split_number]\n"
      ],
      "metadata": {
        "id": "SbgjvsVqhRmo"
      },
      "execution_count": 22,
      "outputs": []
    },
    {
      "cell_type": "code",
      "source": [
        "accuracy = train_and_test(train_indices, test_indices, X_train_normalized, y.iloc[train_indices], X_test_normalized, y.iloc[test_indices])\n"
      ],
      "metadata": {
        "colab": {
          "base_uri": "https://localhost:8080/"
        },
        "id": "u972mRjuhTBU",
        "outputId": "9277f95d-39e4-4302-a98b-370cdd840aeb"
      },
      "execution_count": 23,
      "outputs": [
        {
          "output_type": "stream",
          "name": "stdout",
          "text": [
            "Model: \"sequential\"\n",
            "_________________________________________________________________\n",
            " Layer (type)                Output Shape              Param #   \n",
            "=================================================================\n",
            " dense (Dense)               (None, 512)               1024512   \n",
            "                                                                 \n",
            " dropout (Dropout)           (None, 512)               0         \n",
            "                                                                 \n",
            " dense_1 (Dense)             (None, 2)                 1026      \n",
            "                                                                 \n",
            "=================================================================\n",
            "Total params: 1025538 (3.91 MB)\n",
            "Trainable params: 1025538 (3.91 MB)\n",
            "Non-trainable params: 0 (0.00 Byte)\n",
            "_________________________________________________________________\n",
            "Epoch 1/10\n",
            "44/44 [==============================] - 3s 38ms/step - loss: 0.6084 - accuracy: 0.7713 - val_loss: 0.5283 - val_accuracy: 0.9045\n",
            "Epoch 2/10\n",
            "44/44 [==============================] - 1s 23ms/step - loss: 0.4399 - accuracy: 0.9261 - val_loss: 0.4010 - val_accuracy: 0.9108\n",
            "Epoch 3/10\n",
            "44/44 [==============================] - 1s 29ms/step - loss: 0.3086 - accuracy: 0.9425 - val_loss: 0.3184 - val_accuracy: 0.9172\n",
            "Epoch 4/10\n",
            "44/44 [==============================] - 1s 32ms/step - loss: 0.2334 - accuracy: 0.9489 - val_loss: 0.2709 - val_accuracy: 0.9172\n",
            "Epoch 5/10\n",
            "44/44 [==============================] - 2s 44ms/step - loss: 0.1828 - accuracy: 0.9602 - val_loss: 0.2438 - val_accuracy: 0.9236\n",
            "Epoch 6/10\n",
            "44/44 [==============================] - 2s 40ms/step - loss: 0.1510 - accuracy: 0.9631 - val_loss: 0.2248 - val_accuracy: 0.9299\n",
            "Epoch 7/10\n",
            "44/44 [==============================] - 2s 37ms/step - loss: 0.1287 - accuracy: 0.9688 - val_loss: 0.2126 - val_accuracy: 0.9363\n",
            "Epoch 8/10\n",
            "44/44 [==============================] - 1s 28ms/step - loss: 0.1112 - accuracy: 0.9702 - val_loss: 0.2030 - val_accuracy: 0.9490\n",
            "Epoch 9/10\n",
            "44/44 [==============================] - 1s 25ms/step - loss: 0.0988 - accuracy: 0.9773 - val_loss: 0.1962 - val_accuracy: 0.9427\n",
            "Epoch 10/10\n",
            "44/44 [==============================] - 1s 29ms/step - loss: 0.0904 - accuracy: 0.9773 - val_loss: 0.1921 - val_accuracy: 0.9490\n",
            "Epoch 1 - Loss: 0.6083837747573853, Accuracy: 0.7713068127632141\n",
            "Epoch 2 - Loss: 0.43990612030029297, Accuracy: 0.9261363744735718\n",
            "Epoch 3 - Loss: 0.3085969090461731, Accuracy: 0.9424715638160706\n",
            "Epoch 4 - Loss: 0.23343132436275482, Accuracy: 0.9488636255264282\n",
            "Epoch 5 - Loss: 0.18280424177646637, Accuracy: 0.9602272510528564\n",
            "Epoch 6 - Loss: 0.1509517878293991, Accuracy: 0.9630681872367859\n",
            "Epoch 7 - Loss: 0.1287248432636261, Accuracy: 0.96875\n",
            "Epoch 8 - Loss: 0.11121212691068649, Accuracy: 0.9701704382896423\n",
            "Epoch 9 - Loss: 0.09881465882062912, Accuracy: 0.9772727489471436\n",
            "Epoch 10 - Loss: 0.09044961631298065, Accuracy: 0.9772727489471436\n",
            "\n",
            "Test Accuracy: 94.37%\n"
          ]
        }
      ]
    },
    {
      "cell_type": "code",
      "source": [
        "accuracy_scores.append(accuracy)\n"
      ],
      "metadata": {
        "id": "Lv-xVprQmad2"
      },
      "execution_count": 24,
      "outputs": []
    },
    {
      "cell_type": "code",
      "source": [
        "accuracy_scores"
      ],
      "metadata": {
        "colab": {
          "base_uri": "https://localhost:8080/"
        },
        "id": "qDo7qbc1mg5a",
        "outputId": "65c81a96-3c27-4ce6-9ef9-5532dcb2f425"
      },
      "execution_count": 25,
      "outputs": [
        {
          "output_type": "execute_result",
          "data": {
            "text/plain": [
              "[0.9437339901924133]"
            ]
          },
          "metadata": {},
          "execution_count": 25
        }
      ]
    },
    {
      "cell_type": "markdown",
      "source": [
        "#7  Cross-Validation Scores\n",
        "### Task: Calculate and print the mean and standard deviation of the cross-validation scores.\n",
        "* Run the train_and_test function for each split in the cross-validation.\n",
        "* Collect the accuracy scores from each run and calculate their mean and standard\n",
        "deviation. Print the loss and accuracy output for each of the 10 epochs. Sample output for\n",
        "a fold should look as follows\n",
        "* Print the mean and standard deviation of all of these scores"
      ],
      "metadata": {
        "id": "atIRH5SuLO-K"
      }
    },
    {
      "cell_type": "code",
      "source": [
        "train_indices_list"
      ],
      "metadata": {
        "colab": {
          "base_uri": "https://localhost:8080/"
        },
        "id": "9fP8zEgDpKzx",
        "outputId": "fd48e363-74e2-4241-9411-d969d338fb17"
      },
      "execution_count": 26,
      "outputs": [
        {
          "output_type": "execute_result",
          "data": {
            "text/plain": [
              "[array([   0,    1,    2, ..., 1952, 1953, 1954]),\n",
              " array([   1,    2,    3, ..., 1953, 1954, 1955]),\n",
              " array([   0,    4,    5, ..., 1952, 1953, 1955]),\n",
              " array([   0,    1,    2, ..., 1953, 1954, 1955]),\n",
              " array([   0,    1,    2, ..., 1952, 1954, 1955])]"
            ]
          },
          "metadata": {},
          "execution_count": 26
        }
      ]
    },
    {
      "cell_type": "code",
      "source": [
        "for split_number in range(1, 5):\n",
        "    train_indices = train_indices_list[split_number]\n",
        "    test_indices = test_indices_list[split_number]\n",
        "\n",
        "    # each split, train and store the accuracy\n",
        "    accuracy = train_and_test(train_indices, test_indices, X_train_normalized, y.iloc[train_indices], X_test_normalized, y.iloc[test_indices])\n",
        "\n",
        "    # Append accuracy score for this split\n",
        "    accuracy_scores.append(accuracy)\n",
        "\n",
        "    print(f\"Accuracy for Split {split_number}: {accuracy}\")\n"
      ],
      "metadata": {
        "colab": {
          "base_uri": "https://localhost:8080/"
        },
        "id": "etBqyWzuiUb4",
        "outputId": "9e2e46d4-fc49-4580-a563-c43578369b24"
      },
      "execution_count": 27,
      "outputs": [
        {
          "output_type": "stream",
          "name": "stdout",
          "text": [
            "Model: \"sequential_1\"\n",
            "_________________________________________________________________\n",
            " Layer (type)                Output Shape              Param #   \n",
            "=================================================================\n",
            " dense_2 (Dense)             (None, 512)               1024512   \n",
            "                                                                 \n",
            " dropout_1 (Dropout)         (None, 512)               0         \n",
            "                                                                 \n",
            " dense_3 (Dense)             (None, 2)                 1026      \n",
            "                                                                 \n",
            "=================================================================\n",
            "Total params: 1025538 (3.91 MB)\n",
            "Trainable params: 1025538 (3.91 MB)\n",
            "Non-trainable params: 0 (0.00 Byte)\n",
            "_________________________________________________________________\n",
            "Epoch 1/10\n",
            "44/44 [==============================] - 3s 40ms/step - loss: 0.5968 - accuracy: 0.8182 - val_loss: 0.5218 - val_accuracy: 0.8471\n",
            "Epoch 2/10\n",
            "44/44 [==============================] - 1s 20ms/step - loss: 0.4249 - accuracy: 0.9297 - val_loss: 0.3972 - val_accuracy: 0.8917\n",
            "Epoch 3/10\n",
            "44/44 [==============================] - 1s 16ms/step - loss: 0.3042 - accuracy: 0.9403 - val_loss: 0.3182 - val_accuracy: 0.8981\n",
            "Epoch 4/10\n",
            "44/44 [==============================] - 1s 17ms/step - loss: 0.2226 - accuracy: 0.9545 - val_loss: 0.2747 - val_accuracy: 0.9236\n",
            "Epoch 5/10\n",
            "44/44 [==============================] - 1s 21ms/step - loss: 0.1758 - accuracy: 0.9609 - val_loss: 0.2465 - val_accuracy: 0.9236\n",
            "Epoch 6/10\n",
            "44/44 [==============================] - 1s 22ms/step - loss: 0.1467 - accuracy: 0.9609 - val_loss: 0.2297 - val_accuracy: 0.9299\n",
            "Epoch 7/10\n",
            "44/44 [==============================] - 1s 21ms/step - loss: 0.1241 - accuracy: 0.9695 - val_loss: 0.2169 - val_accuracy: 0.9299\n",
            "Epoch 8/10\n",
            "44/44 [==============================] - 1s 21ms/step - loss: 0.1109 - accuracy: 0.9737 - val_loss: 0.2081 - val_accuracy: 0.9299\n",
            "Epoch 9/10\n",
            "44/44 [==============================] - 1s 18ms/step - loss: 0.0971 - accuracy: 0.9702 - val_loss: 0.2039 - val_accuracy: 0.9427\n",
            "Epoch 10/10\n",
            "44/44 [==============================] - 1s 23ms/step - loss: 0.0865 - accuracy: 0.9773 - val_loss: 0.1983 - val_accuracy: 0.9427\n",
            "Epoch 1 - Loss: 0.596771240234375, Accuracy: 0.8181818127632141\n",
            "Epoch 2 - Loss: 0.4248572289943695, Accuracy: 0.9296875\n",
            "Epoch 3 - Loss: 0.30417579412460327, Accuracy: 0.9403409361839294\n",
            "Epoch 4 - Loss: 0.22255633771419525, Accuracy: 0.9545454382896423\n",
            "Epoch 5 - Loss: 0.17583061754703522, Accuracy: 0.9609375\n",
            "Epoch 6 - Loss: 0.1466902792453766, Accuracy: 0.9609375\n",
            "Epoch 7 - Loss: 0.12408778816461563, Accuracy: 0.9694602489471436\n",
            "Epoch 8 - Loss: 0.1109013631939888, Accuracy: 0.9737215638160706\n",
            "Epoch 9 - Loss: 0.09709152579307556, Accuracy: 0.9701704382896423\n",
            "Epoch 10 - Loss: 0.08647405356168747, Accuracy: 0.9772727489471436\n",
            "\n",
            "Test Accuracy: 94.37%\n",
            "Accuracy for Split 1: 0.9437339901924133\n",
            "Model: \"sequential_2\"\n",
            "_________________________________________________________________\n",
            " Layer (type)                Output Shape              Param #   \n",
            "=================================================================\n",
            " dense_4 (Dense)             (None, 512)               1024512   \n",
            "                                                                 \n",
            " dropout_2 (Dropout)         (None, 512)               0         \n",
            "                                                                 \n",
            " dense_5 (Dense)             (None, 2)                 1026      \n",
            "                                                                 \n",
            "=================================================================\n",
            "Total params: 1025538 (3.91 MB)\n",
            "Trainable params: 1025538 (3.91 MB)\n",
            "Non-trainable params: 0 (0.00 Byte)\n",
            "_________________________________________________________________\n",
            "Epoch 1/10\n",
            "44/44 [==============================] - 2s 21ms/step - loss: 0.6952 - accuracy: 0.5078 - val_loss: 0.7043 - val_accuracy: 0.4395\n",
            "Epoch 2/10\n",
            "44/44 [==============================] - 1s 16ms/step - loss: 0.6733 - accuracy: 0.6300 - val_loss: 0.7084 - val_accuracy: 0.4459\n",
            "Epoch 3/10\n",
            "44/44 [==============================] - 1s 16ms/step - loss: 0.6562 - accuracy: 0.6868 - val_loss: 0.7118 - val_accuracy: 0.4522\n",
            "Epoch 4/10\n",
            "44/44 [==============================] - 1s 16ms/step - loss: 0.6394 - accuracy: 0.7159 - val_loss: 0.7138 - val_accuracy: 0.4650\n",
            "Epoch 5/10\n",
            "44/44 [==============================] - 1s 18ms/step - loss: 0.6197 - accuracy: 0.7614 - val_loss: 0.7194 - val_accuracy: 0.4713\n",
            "Epoch 6/10\n",
            "44/44 [==============================] - 1s 23ms/step - loss: 0.5989 - accuracy: 0.7876 - val_loss: 0.7236 - val_accuracy: 0.4904\n",
            "Epoch 7/10\n",
            "44/44 [==============================] - 1s 25ms/step - loss: 0.5783 - accuracy: 0.8018 - val_loss: 0.7300 - val_accuracy: 0.5032\n",
            "Epoch 8/10\n",
            "44/44 [==============================] - 1s 27ms/step - loss: 0.5563 - accuracy: 0.8182 - val_loss: 0.7362 - val_accuracy: 0.5223\n",
            "Epoch 9/10\n",
            "44/44 [==============================] - 1s 25ms/step - loss: 0.5338 - accuracy: 0.8189 - val_loss: 0.7449 - val_accuracy: 0.5032\n",
            "Epoch 10/10\n",
            "44/44 [==============================] - 2s 35ms/step - loss: 0.5122 - accuracy: 0.8303 - val_loss: 0.7534 - val_accuracy: 0.5223\n",
            "Epoch 1 - Loss: 0.6952002048492432, Accuracy: 0.5078125\n",
            "Epoch 2 - Loss: 0.6733043193817139, Accuracy: 0.6299715638160706\n",
            "Epoch 3 - Loss: 0.6561681628227234, Accuracy: 0.6867897510528564\n",
            "Epoch 4 - Loss: 0.6393964290618896, Accuracy: 0.7159090638160706\n",
            "Epoch 5 - Loss: 0.6197481751441956, Accuracy: 0.7613636255264282\n",
            "Epoch 6 - Loss: 0.5988835692405701, Accuracy: 0.7876420617103577\n",
            "Epoch 7 - Loss: 0.578312873840332, Accuracy: 0.8018465638160706\n",
            "Epoch 8 - Loss: 0.5563117861747742, Accuracy: 0.8181818127632141\n",
            "Epoch 9 - Loss: 0.5337557196617126, Accuracy: 0.8188920617103577\n",
            "Epoch 10 - Loss: 0.5121668577194214, Accuracy: 0.8302556872367859\n",
            "\n",
            "Test Accuracy: 54.48%\n",
            "Accuracy for Split 2: 0.5447570085525513\n",
            "Model: \"sequential_3\"\n",
            "_________________________________________________________________\n",
            " Layer (type)                Output Shape              Param #   \n",
            "=================================================================\n",
            " dense_6 (Dense)             (None, 512)               1024512   \n",
            "                                                                 \n",
            " dropout_3 (Dropout)         (None, 512)               0         \n",
            "                                                                 \n",
            " dense_7 (Dense)             (None, 2)                 1026      \n",
            "                                                                 \n",
            "=================================================================\n",
            "Total params: 1025538 (3.91 MB)\n",
            "Trainable params: 1025538 (3.91 MB)\n",
            "Non-trainable params: 0 (0.00 Byte)\n",
            "_________________________________________________________________\n",
            "Epoch 1/10\n",
            "44/44 [==============================] - 5s 41ms/step - loss: 0.6973 - accuracy: 0.5078 - val_loss: 0.6946 - val_accuracy: 0.4904\n",
            "Epoch 2/10\n",
            "44/44 [==============================] - 1s 31ms/step - loss: 0.6751 - accuracy: 0.5781 - val_loss: 0.6951 - val_accuracy: 0.4650\n",
            "Epoch 3/10\n",
            "44/44 [==============================] - 2s 34ms/step - loss: 0.6576 - accuracy: 0.6385 - val_loss: 0.6965 - val_accuracy: 0.4650\n",
            "Epoch 4/10\n",
            "44/44 [==============================] - 1s 26ms/step - loss: 0.6399 - accuracy: 0.7081 - val_loss: 0.6981 - val_accuracy: 0.4713\n",
            "Epoch 5/10\n",
            "44/44 [==============================] - 1s 28ms/step - loss: 0.6236 - accuracy: 0.7259 - val_loss: 0.6974 - val_accuracy: 0.4968\n",
            "Epoch 6/10\n",
            "44/44 [==============================] - 1s 28ms/step - loss: 0.6045 - accuracy: 0.7450 - val_loss: 0.6983 - val_accuracy: 0.4841\n",
            "Epoch 7/10\n",
            "44/44 [==============================] - 1s 33ms/step - loss: 0.5841 - accuracy: 0.7848 - val_loss: 0.6998 - val_accuracy: 0.4904\n",
            "Epoch 8/10\n",
            "44/44 [==============================] - 2s 36ms/step - loss: 0.5608 - accuracy: 0.7955 - val_loss: 0.6993 - val_accuracy: 0.5032\n",
            "Epoch 9/10\n",
            "44/44 [==============================] - 2s 40ms/step - loss: 0.5375 - accuracy: 0.8182 - val_loss: 0.7013 - val_accuracy: 0.4968\n",
            "Epoch 10/10\n",
            "44/44 [==============================] - 1s 26ms/step - loss: 0.5150 - accuracy: 0.8281 - val_loss: 0.7017 - val_accuracy: 0.5096\n",
            "Epoch 1 - Loss: 0.697316586971283, Accuracy: 0.5078125\n",
            "Epoch 2 - Loss: 0.6750836968421936, Accuracy: 0.578125\n",
            "Epoch 3 - Loss: 0.6575950980186462, Accuracy: 0.6384943127632141\n",
            "Epoch 4 - Loss: 0.6399025321006775, Accuracy: 0.7080965638160706\n",
            "Epoch 5 - Loss: 0.6235890984535217, Accuracy: 0.7258522510528564\n",
            "Epoch 6 - Loss: 0.6045336723327637, Accuracy: 0.7450284361839294\n",
            "Epoch 7 - Loss: 0.5840892195701599, Accuracy: 0.7848011255264282\n",
            "Epoch 8 - Loss: 0.5607969164848328, Accuracy: 0.7954545617103577\n",
            "Epoch 9 - Loss: 0.5374999642372131, Accuracy: 0.8181818127632141\n",
            "Epoch 10 - Loss: 0.5150291323661804, Accuracy: 0.828125\n",
            "\n",
            "Test Accuracy: 52.94%\n",
            "Accuracy for Split 3: 0.529411792755127\n",
            "Model: \"sequential_4\"\n",
            "_________________________________________________________________\n",
            " Layer (type)                Output Shape              Param #   \n",
            "=================================================================\n",
            " dense_8 (Dense)             (None, 512)               1024512   \n",
            "                                                                 \n",
            " dropout_4 (Dropout)         (None, 512)               0         \n",
            "                                                                 \n",
            " dense_9 (Dense)             (None, 2)                 1026      \n",
            "                                                                 \n",
            "=================================================================\n",
            "Total params: 1025538 (3.91 MB)\n",
            "Trainable params: 1025538 (3.91 MB)\n",
            "Non-trainable params: 0 (0.00 Byte)\n",
            "_________________________________________________________________\n",
            "Epoch 1/10\n",
            "44/44 [==============================] - 1s 20ms/step - loss: 0.6982 - accuracy: 0.4865 - val_loss: 0.6968 - val_accuracy: 0.4522\n",
            "Epoch 2/10\n",
            "44/44 [==============================] - 1s 16ms/step - loss: 0.6757 - accuracy: 0.5945 - val_loss: 0.7035 - val_accuracy: 0.4268\n",
            "Epoch 3/10\n",
            "44/44 [==============================] - 1s 20ms/step - loss: 0.6586 - accuracy: 0.6619 - val_loss: 0.7044 - val_accuracy: 0.4204\n",
            "Epoch 4/10\n",
            "44/44 [==============================] - 1s 22ms/step - loss: 0.6432 - accuracy: 0.7124 - val_loss: 0.7053 - val_accuracy: 0.4522\n",
            "Epoch 5/10\n",
            "44/44 [==============================] - 1s 21ms/step - loss: 0.6251 - accuracy: 0.7415 - val_loss: 0.7114 - val_accuracy: 0.4586\n",
            "Epoch 6/10\n",
            "44/44 [==============================] - 1s 22ms/step - loss: 0.6059 - accuracy: 0.7607 - val_loss: 0.7119 - val_accuracy: 0.4650\n",
            "Epoch 7/10\n",
            "44/44 [==============================] - 1s 21ms/step - loss: 0.5871 - accuracy: 0.7741 - val_loss: 0.7205 - val_accuracy: 0.4459\n",
            "Epoch 8/10\n",
            "44/44 [==============================] - 1s 17ms/step - loss: 0.5631 - accuracy: 0.7898 - val_loss: 0.7241 - val_accuracy: 0.4586\n",
            "Epoch 9/10\n",
            "44/44 [==============================] - 1s 16ms/step - loss: 0.5426 - accuracy: 0.8004 - val_loss: 0.7305 - val_accuracy: 0.4586\n",
            "Epoch 10/10\n",
            "44/44 [==============================] - 1s 16ms/step - loss: 0.5198 - accuracy: 0.8118 - val_loss: 0.7387 - val_accuracy: 0.4586\n",
            "Epoch 1 - Loss: 0.6982306838035583, Accuracy: 0.4865056872367859\n",
            "Epoch 2 - Loss: 0.6757384538650513, Accuracy: 0.5944602489471436\n",
            "Epoch 3 - Loss: 0.6586133241653442, Accuracy: 0.6619318127632141\n",
            "Epoch 4 - Loss: 0.6432242393493652, Accuracy: 0.7123579382896423\n",
            "Epoch 5 - Loss: 0.6250882744789124, Accuracy: 0.7414772510528564\n",
            "Epoch 6 - Loss: 0.6059131026268005, Accuracy: 0.7606534361839294\n",
            "Epoch 7 - Loss: 0.5871493816375732, Accuracy: 0.7741477489471436\n",
            "Epoch 8 - Loss: 0.5631409287452698, Accuracy: 0.7897727489471436\n",
            "Epoch 9 - Loss: 0.5426282286643982, Accuracy: 0.8004261255264282\n",
            "Epoch 10 - Loss: 0.5197550058364868, Accuracy: 0.8117897510528564\n",
            "\n",
            "Test Accuracy: 51.41%\n",
            "Accuracy for Split 4: 0.5140665173530579\n"
          ]
        }
      ]
    },
    {
      "cell_type": "code",
      "source": [
        "accuracy_scores"
      ],
      "metadata": {
        "colab": {
          "base_uri": "https://localhost:8080/"
        },
        "id": "gLKPpDmotxeT",
        "outputId": "50e26867-f0c3-4ece-b0b8-76b387d2a0ac"
      },
      "execution_count": 28,
      "outputs": [
        {
          "output_type": "execute_result",
          "data": {
            "text/plain": [
              "[0.9437339901924133,\n",
              " 0.9437339901924133,\n",
              " 0.5447570085525513,\n",
              " 0.529411792755127,\n",
              " 0.5140665173530579]"
            ]
          },
          "metadata": {},
          "execution_count": 28
        }
      ]
    },
    {
      "cell_type": "code",
      "source": [
        "#  mean and std dev for accuracy\n",
        "mean_accuracy = np.mean(accuracy_scores)\n",
        "std_accuracy = np.std(accuracy_scores)\n",
        "\n",
        "print(f\"\\nMean Accuracy: {mean_accuracy*100:.2f}%\")\n",
        "print(f\"Standard Deviation of Accuracy: {std_accuracy*100:.2f}%\")"
      ],
      "metadata": {
        "colab": {
          "base_uri": "https://localhost:8080/"
        },
        "id": "tlgeacXzmqdJ",
        "outputId": "d8ee2d45-b5dc-470e-992b-ad2f1fe9f7c8"
      },
      "execution_count": 29,
      "outputs": [
        {
          "output_type": "stream",
          "name": "stdout",
          "text": [
            "\n",
            "Mean Accuracy: 69.51%\n",
            "Standard Deviation of Accuracy: 20.32%\n"
          ]
        }
      ]
    },
    {
      "cell_type": "markdown",
      "source": [
        "The mean accuracy is 69%, while the standard deviation is 20%, this is how much the accuracy values deviate from the mean.\n",
        "This standard deviation is high, there is a variation in performance in the cross evaluation depending on the split.\n",
        "We see that the accuracy varies from 50.69% to 94.63%, the model is sensitive and shows different results with the different types of data from each split"
      ],
      "metadata": {
        "id": "0TkUJA48wQ27"
      }
    }
  ]
}